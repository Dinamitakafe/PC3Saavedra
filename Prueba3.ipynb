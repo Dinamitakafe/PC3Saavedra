{
 "cells": [
  {
   "cell_type": "code",
   "execution_count": 1,
   "id": "3557f274",
   "metadata": {},
   "outputs": [],
   "source": [
    "#Función factorial:\n",
    "\n",
    "def facto(x):\n",
    "    a=1\n",
    "    for i in range(1,x+1):\n",
    "        a = a*i\n",
    "    return a        "
   ]
  },
  {
   "cell_type": "code",
   "execution_count": 3,
   "id": "90d6c77f",
   "metadata": {},
   "outputs": [
    {
     "data": {
      "text/plain": [
       "24"
      ]
     },
     "execution_count": 3,
     "metadata": {},
     "output_type": "execute_result"
    }
   ],
   "source": [
    "facto(4)"
   ]
  },
  {
   "cell_type": "code",
   "execution_count": 1,
   "id": "15437ebf",
   "metadata": {},
   "outputs": [],
   "source": [
    "def factorial(numero):\n",
    "    if numero < 0:\n",
    "        return \"Error ingrese un número entero positivo.\"\n",
    "    factorial = 1\n",
    "    while numero > 0:\n",
    "        factorial = factorial * numero\n",
    "        numero -= 1\n",
    "    return factorial"
   ]
  }
 ],
 "metadata": {
  "kernelspec": {
   "display_name": "Python 3 (ipykernel)",
   "language": "python",
   "name": "python3"
  },
  "language_info": {
   "codemirror_mode": {
    "name": "ipython",
    "version": 3
   },
   "file_extension": ".py",
   "mimetype": "text/x-python",
   "name": "python",
   "nbconvert_exporter": "python",
   "pygments_lexer": "ipython3",
   "version": "3.9.12"
  }
 },
 "nbformat": 4,
 "nbformat_minor": 5
}
